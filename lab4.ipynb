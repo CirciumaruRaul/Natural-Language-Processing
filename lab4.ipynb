{
  "cells": [
    {
      "cell_type": "markdown",
      "metadata": {
        "id": "T3VEE5OZc7xJ"
      },
      "source": [
        "# Wordnet"
      ]
    },
    {
      "cell_type": "markdown",
      "metadata": {
        "id": "E0UfDhHgfYH2"
      },
      "source": [
        "Wordnet is a semantic dictionary organized into synsets. A **synset** is a group of synonym words that has an associated id and sense, illustrated by a brief gloss (definition). A word can appear in multiple synsets if that word (or collocation) is polysemantic.\n",
        "\n",
        "To easily visualize the links between words, you can use this [web based GUI](https://wordvis.com/)"
      ]
    },
    {
      "cell_type": "code",
      "execution_count": 6,
      "metadata": {
        "colab": {
          "base_uri": "https://localhost:8080/"
        },
        "id": "T9bo4LuYhJ5w",
        "outputId": "a92ec459-cad1-4380-f89b-e80815a09334"
      },
      "outputs": [
        {
          "name": "stderr",
          "output_type": "stream",
          "text": [
            "[nltk_data] Downloading package wordnet to /root/nltk_data...\n"
          ]
        },
        {
          "data": {
            "text/plain": [
              "True"
            ]
          },
          "execution_count": 6,
          "metadata": {},
          "output_type": "execute_result"
        }
      ],
      "source": [
        "import nltk\n",
        "nltk.download('wordnet')"
      ]
    },
    {
      "cell_type": "code",
      "execution_count": null,
      "metadata": {
        "id": "hcQzAVfLgNsp"
      },
      "outputs": [],
      "source": [
        "from nltk.corpus import wordnet"
      ]
    },
    {
      "cell_type": "code",
      "execution_count": null,
      "metadata": {
        "colab": {
          "base_uri": "https://localhost:8080/"
        },
        "id": "grVvCLAfc0mZ",
        "outputId": "3e3841b8-c246-4f8a-e76d-e05f96ffbad0"
      },
      "outputs": [
        {
          "data": {
            "text/plain": [
              "[Synset('school.n.01'),\n",
              " Synset('school.n.02'),\n",
              " Synset('school.n.03'),\n",
              " Synset('school.n.04'),\n",
              " Synset('school.n.05'),\n",
              " Synset('school.n.06'),\n",
              " Synset('school.n.07'),\n",
              " Synset('school.v.01'),\n",
              " Synset('educate.v.03'),\n",
              " Synset('school.v.03')]"
            ]
          },
          "execution_count": 6,
          "metadata": {},
          "output_type": "execute_result"
        }
      ],
      "source": [
        "wordnet.synsets('school')"
      ]
    },
    {
      "cell_type": "code",
      "execution_count": null,
      "metadata": {
        "colab": {
          "base_uri": "https://localhost:8080/"
        },
        "id": "d5pblrY2hUrz",
        "outputId": "685f731a-cb41-4662-835a-ce74765be2b0"
      },
      "outputs": [
        {
          "name": "stdout",
          "output_type": "stream",
          "text": [
            "an educational institution\n",
            "['the school was founded in 1900']\n",
            "['school']\n"
          ]
        }
      ],
      "source": [
        "school_synset = wordnet.synsets('school')[0]\n",
        "print(school_synset.definition())\n",
        "print(school_synset.examples())\n",
        "print(school_synset.lemma_names()) # get synonyms"
      ]
    },
    {
      "cell_type": "code",
      "execution_count": null,
      "metadata": {
        "colab": {
          "base_uri": "https://localhost:8080/"
        },
        "id": "q1jJc2r4iL-u",
        "outputId": "1bd53bc4-329b-4863-c041-4cfcba8dce8a"
      },
      "outputs": [
        {
          "data": {
            "text/plain": [
              "[Synset('train.n.01'),\n",
              " Synset('string.n.04'),\n",
              " Synset('caravan.n.01'),\n",
              " Synset('train.n.04'),\n",
              " Synset('train.n.05'),\n",
              " Synset('gearing.n.01'),\n",
              " Synset('train.v.01'),\n",
              " Synset('train.v.02'),\n",
              " Synset('discipline.v.01'),\n",
              " Synset('prepare.v.05'),\n",
              " Synset('educate.v.03'),\n",
              " Synset('aim.v.01'),\n",
              " Synset('coach.v.01'),\n",
              " Synset('train.v.08'),\n",
              " Synset('train.v.09'),\n",
              " Synset('train.v.10'),\n",
              " Synset('trail.v.05')]"
            ]
          },
          "execution_count": 18,
          "metadata": {},
          "output_type": "execute_result"
        }
      ],
      "source": [
        "wordnet.synsets('trains') # get the list of synsets of a word"
      ]
    },
    {
      "cell_type": "markdown",
      "metadata": {
        "id": "yI-WJfL3jMIf"
      },
      "source": [
        "### Types of relations for nouns"
      ]
    },
    {
      "cell_type": "markdown",
      "metadata": {
        "id": "dzwMA1amjZIX"
      },
      "source": [
        "**hypernyms/hyponyms**: A hypernym is a more general term that describes a concept. A synset s1 is a hypernym of s2 if s2 is a type of s1. If s1 is a hypernym of s2, s2 is a hyponym of s1"
      ]
    },
    {
      "cell_type": "code",
      "execution_count": null,
      "metadata": {
        "colab": {
          "base_uri": "https://localhost:8080/"
        },
        "id": "enS-7TDujpER",
        "outputId": "51f05493-82a3-4fac-acc7-bfe0e0d1cf58"
      },
      "outputs": [
        {
          "name": "stdout",
          "output_type": "stream",
          "text": [
            "[Synset('educational_institution.n.01')]\n",
            "[Synset('dancing_school.n.01'), Synset('flying_school.n.01'), Synset('religious_school.n.01'), Synset('secondary_school.n.01'), Synset('sunday_school.n.01'), Synset('secretarial_school.n.01'), Synset('night_school.n.01'), Synset('graduate_school.n.01'), Synset('technical_school.n.01'), Synset('academy.n.03'), Synset('driving_school.n.01'), Synset('correspondence_school.n.01'), Synset('private_school.n.01'), Synset('nursing_school.n.01'), Synset('training_school.n.01'), Synset('riding_school.n.01'), Synset('public_school.n.01'), Synset('conservatory.n.01'), Synset('direct-grant_school.n.01'), Synset('finishing_school.n.01'), Synset('veterinary_school.n.01'), Synset('crammer.n.03'), Synset('dance_school.n.01'), Synset('day_school.n.02'), Synset('grade_school.n.01'), Synset('language_school.n.01'), Synset('alma_mater.n.01')]\n"
          ]
        }
      ],
      "source": [
        "school_synset = wordnet.synset('school.n.01')\n",
        "print(school_synset.hypernyms()) # hypernymy -> is-a relation\n",
        "print(school_synset.hyponyms()) # types of schools"
      ]
    },
    {
      "cell_type": "code",
      "execution_count": null,
      "metadata": {
        "colab": {
          "base_uri": "https://localhost:8080/"
        },
        "id": "rQ-jaMyvpVwT",
        "outputId": "c028e0fc-0c44-4b24-b4d5-1e8f37f83f1e"
      },
      "outputs": [
        {
          "name": "stdout",
          "output_type": "stream",
          "text": [
            "a deciduous tree of the genus Quercus; has acorns and lobed leaves\n",
            "[Synset('tree.n.01')]\n",
            "[Synset('jack_oak.n.02'), Synset('overcup_oak.n.01'), Synset('scrub_oak.n.01'), Synset('willow_oak.n.01'), Synset('nuttall_oak.n.01'), Synset('red_oak.n.01'), Synset('pin_oak.n.01'), Synset('cork_oak.n.01'), Synset('live_oak.n.01'), Synset('chestnut_oak.n.01'), Synset('holm_oak.n.02'), Synset('black_oak.n.01'), Synset('american_turkey_oak.n.01'), Synset('scarlet_oak.n.01'), Synset('california_black_oak.n.01'), Synset('laurel_oak.n.01'), Synset('chinese_cork_oak.n.01'), Synset('shingle_oak.n.01'), Synset('white_oak.n.01'), Synset('european_turkey_oak.n.01'), Synset('post_oak.n.01'), Synset('japanese_oak.n.01'), Synset('spanish_oak.n.01'), Synset('water_oak.n.01'), Synset('bluejack_oak.n.01')]\n"
          ]
        }
      ],
      "source": [
        "synset = wordnet.synset('oak.n.02')\n",
        "print(synset.definition())\n",
        "print(synset.hypernyms()) # hypernymy -> is-a relation\n",
        "print(synset.hyponyms()) # types of oaks"
      ]
    },
    {
      "cell_type": "markdown",
      "metadata": {
        "id": "9IX_KgKWlq0N"
      },
      "source": [
        "**meronyms/holonyms**: A synset s1 is a holonym of synset s2 (and , simultaneously, s2 is a meronym of s1), if s2 is contained in s1. The meronyms and holonyms are of three types: \"part of\", \"substance\", and \"member of\"."
      ]
    },
    {
      "cell_type": "code",
      "execution_count": null,
      "metadata": {
        "colab": {
          "base_uri": "https://localhost:8080/"
        },
        "id": "8-UTmROEoOff",
        "outputId": "1c85db28-a2cd-4ced-cbcb-0d78354d761a"
      },
      "outputs": [
        {
          "name": "stdout",
          "output_type": "stream",
          "text": [
            "room.n.01:, an area within a building enclosed by walls and floor and ceiling\n",
            "part holonyms: [Synset('building.n.01')]\n",
            "part meronyms: [Synset('room_light.n.01'), Synset('ceiling.n.01'), Synset('wall.n.01'), Synset('floor.n.01')]\n"
          ]
        }
      ],
      "source": [
        "room = wordnet.synset('room.n.01')\n",
        "print(f\"{room.name()}:, {room.definition()}\")\n",
        "print(\"part holonyms:\", room.part_holonyms())\n",
        "print(\"part meronyms:\", room.part_meronyms())"
      ]
    },
    {
      "cell_type": "code",
      "execution_count": null,
      "metadata": {
        "colab": {
          "base_uri": "https://localhost:8080/"
        },
        "id": "_Ya2CchdmE8o",
        "outputId": "b3a962b6-d742-4cf2-e6f6-60dbb1549928"
      },
      "outputs": [
        {
          "name": "stdout",
          "output_type": "stream",
          "text": [
            "air.n.01:, a mixture of gases (especially oxygen) required for breathing; the stuff that the wind consists of\n",
            "substance holonyms: [Synset('wind.n.01')]\n",
            "substance meronyms: [Synset('nitrogen.n.01'), Synset('xenon.n.01'), Synset('krypton.n.01'), Synset('neon.n.01'), Synset('oxygen.n.01'), Synset('argon.n.01')]\n"
          ]
        }
      ],
      "source": [
        "air = wordnet.synset('air.n.01')\n",
        "print(f\"{air.name()}:, {air.definition()}\")\n",
        "print(\"substance holonyms:\", air.substance_holonyms())\n",
        "print(\"substance meronyms:\", air.substance_meronyms())"
      ]
    },
    {
      "cell_type": "code",
      "execution_count": null,
      "metadata": {
        "colab": {
          "base_uri": "https://localhost:8080/"
        },
        "id": "N_vBYu_MnJeQ",
        "outputId": "f43ebc92-1d5e-4bb4-dfab-36c480b4403d"
      },
      "outputs": [
        {
          "name": "stdout",
          "output_type": "stream",
          "text": [
            "tree.n.01:, a tall perennial woody plant having a main trunk and branches forming a distinct elevated crown; includes both gymnosperms and angiosperms\n",
            "member holonyms: [Synset('forest.n.01')]\n",
            "member meronyms: []\n"
          ]
        }
      ],
      "source": [
        "tree = wordnet.synset('tree.n.01')\n",
        "print(f\"{tree.name()}:, {tree.definition()}\")\n",
        "print(\"member holonyms:\", tree.member_holonyms())\n",
        "print(\"member meronyms:\", tree.member_meronyms())"
      ]
    },
    {
      "cell_type": "markdown",
      "metadata": {
        "id": "qHYimw7uqF9v"
      },
      "source": [
        "**attributes** (relation to adjective synsets): An adjective synset s1 is an attribute of noun synset s2 if s1 can be a value of s2"
      ]
    },
    {
      "cell_type": "code",
      "execution_count": null,
      "metadata": {
        "colab": {
          "base_uri": "https://localhost:8080/"
        },
        "id": "Rd0dwTSJqMO5",
        "outputId": "5832695f-359d-4203-ddc5-f8f7ceeed328"
      },
      "outputs": [
        {
          "name": "stdout",
          "output_type": "stream",
          "text": [
            "a rate (usually rapid) at which something happens\n"
          ]
        },
        {
          "data": {
            "text/plain": [
              "[Synset('slow.a.01'), Synset('fast.a.01')]"
            ]
          },
          "execution_count": 73,
          "metadata": {},
          "output_type": "execute_result"
        }
      ],
      "source": [
        "speed = wordnet.synset('speed.n.02')\n",
        "print(speed.definition())\n",
        "speed.attributes()"
      ]
    },
    {
      "cell_type": "markdown",
      "metadata": {
        "id": "0lly1szerIs5"
      },
      "source": [
        "### Types of relations for verbs:"
      ]
    },
    {
      "cell_type": "markdown",
      "metadata": {
        "id": "kwNzUqhurYpU"
      },
      "source": [
        "**hypernyms/troponyms**: Troponyms give a specification for a verb. In other words, a troponym is a verb that specifies an action in a certain context. For example, diving is a type of swimming, therefore the verb dive is a troponym for the verb swim. Troponyms are actually verb hyponyms.\n",
        "\n",
        "A hypernym of a verb indicates a broader category of actions the verb belongs to."
      ]
    },
    {
      "cell_type": "code",
      "execution_count": null,
      "metadata": {
        "colab": {
          "base_uri": "https://localhost:8080/"
        },
        "id": "nQHACos4sL8c",
        "outputId": "37bdda32-832b-402a-81ae-f5abc9f86c7a"
      },
      "outputs": [
        {
          "name": "stdout",
          "output_type": "stream",
          "text": [
            "[Synset('travel.v.01')]\n",
            "[Synset('paddle.v.03'), Synset('skinny-dip.v.01'), Synset('fin.v.02'), Synset('crawl.v.05'), Synset('dive.v.03'), Synset('school.v.03'), Synset('backstroke.v.01'), Synset('fin.v.03'), Synset('breaststroke.v.01')]\n"
          ]
        }
      ],
      "source": [
        "swim = wordnet.synset('swim.v.01')\n",
        "print(swim.hypernyms())\n",
        "print(swim.hyponyms())"
      ]
    },
    {
      "cell_type": "code",
      "execution_count": null,
      "metadata": {
        "colab": {
          "base_uri": "https://localhost:8080/"
        },
        "id": "fHhu8TEOsW4g",
        "outputId": "c6352909-df47-4984-e1a3-bea9d5f9a0ee"
      },
      "outputs": [
        {
          "name": "stdout",
          "output_type": "stream",
          "text": [
            "[Synset('travel_rapidly.v.01')]\n",
            "[Synset('streak.v.02'), Synset('rush.v.05'), Synset('run_bases.v.01'), Synset('jog.v.03'), Synset('trot.v.01'), Synset('scurry.v.01'), Synset('sprint.v.01'), Synset('lope.v.01'), Synset('outrun.v.01'), Synset('hare.v.01'), Synset('romp.v.02'), Synset('run.v.33')]\n"
          ]
        }
      ],
      "source": [
        "run = wordnet.synset('run.v.01')\n",
        "print(run.hypernyms())\n",
        "print(run.hyponyms())"
      ]
    },
    {
      "cell_type": "markdown",
      "metadata": {
        "id": "AwH9G7nbtN-v"
      },
      "source": [
        "**entailments**: an action (verb) is dependent on another action (verb) - the first action needs the other action to take place"
      ]
    },
    {
      "cell_type": "code",
      "execution_count": null,
      "metadata": {
        "colab": {
          "base_uri": "https://localhost:8080/"
        },
        "id": "iK_J377TtZne",
        "outputId": "5e048c2b-f13f-4270-e857-4d0d7fd01e1f"
      },
      "outputs": [
        {
          "data": {
            "text/plain": [
              "[Synset('see.v.01')]"
            ]
          },
          "execution_count": 77,
          "metadata": {},
          "output_type": "execute_result"
        }
      ],
      "source": [
        "wordnet.synset('look.v.01').entailments()"
      ]
    },
    {
      "cell_type": "markdown",
      "metadata": {
        "id": "pyw3_gfXtuKj"
      },
      "source": [
        "### Types of relations for adjectives"
      ]
    },
    {
      "cell_type": "markdown",
      "metadata": {
        "id": "qNlHxg05t12i"
      },
      "source": [
        "**antonyms**"
      ]
    },
    {
      "cell_type": "code",
      "execution_count": null,
      "metadata": {
        "colab": {
          "base_uri": "https://localhost:8080/"
        },
        "id": "RI8HL8iQt0wx",
        "outputId": "d1ee3585-2418-4019-9177-746dec564298"
      },
      "outputs": [
        {
          "name": "stdout",
          "output_type": "stream",
          "text": [
            "[Lemma('bad.a.01.bad')]\n"
          ]
        },
        {
          "data": {
            "text/plain": [
              "Synset('good.a.01')"
            ]
          },
          "execution_count": 94,
          "metadata": {},
          "output_type": "execute_result"
        }
      ],
      "source": [
        "lemma = wordnet.synset('good.a.01').lemmas()[0] # same for adverbs\n",
        "print(lemma.antonyms())\n",
        "lemma.synset()"
      ]
    },
    {
      "cell_type": "markdown",
      "metadata": {
        "id": "N_p_EbbJwI76"
      },
      "source": [
        "**similar to** (also for adjective satellites)"
      ]
    },
    {
      "cell_type": "code",
      "execution_count": null,
      "metadata": {
        "colab": {
          "base_uri": "https://localhost:8080/"
        },
        "id": "xuUNusC3wRcP",
        "outputId": "b73faab4-ea72-4cd9-d0ff-7607a3b3cc48"
      },
      "outputs": [
        {
          "data": {
            "text/plain": [
              "[Synset('astute.s.01'), Synset('streetwise.s.01'), Synset('cagey.s.01')]"
            ]
          },
          "execution_count": 97,
          "metadata": {},
          "output_type": "execute_result"
        }
      ],
      "source": [
        "wordnet.synset('smart.a.01').similar_tos()"
      ]
    },
    {
      "cell_type": "markdown",
      "metadata": {
        "id": "s9xEdPMmwd61"
      },
      "source": [
        "**attributes** (relation to noun synsets)"
      ]
    },
    {
      "cell_type": "code",
      "execution_count": null,
      "metadata": {
        "colab": {
          "base_uri": "https://localhost:8080/"
        },
        "id": "wSbql9f9wjJg",
        "outputId": "87a2dd2d-e392-47a8-f4c2-9de24f17ca2d"
      },
      "outputs": [
        {
          "data": {
            "text/plain": [
              "[Synset('speed.n.02')]"
            ]
          },
          "execution_count": 98,
          "metadata": {},
          "output_type": "execute_result"
        }
      ],
      "source": [
        "wordnet.synset('slow.a.01').attributes()"
      ]
    },
    {
      "cell_type": "markdown",
      "metadata": {
        "id": "OyZJXDfzxZ8H"
      },
      "source": [
        "### The similarity of two synsets"
      ]
    },
    {
      "cell_type": "code",
      "execution_count": null,
      "metadata": {
        "colab": {
          "base_uri": "https://localhost:8080/",
          "height": 35
        },
        "id": "P18Eiq5Sx1fx",
        "outputId": "36f467d9-76f9-42fa-d9d0-66bed6c82cf4"
      },
      "outputs": [
        {
          "data": {
            "application/vnd.google.colaboratory.intrinsic+json": {
              "type": "string"
            },
            "text/plain": [
              "'(botany) a living organism lacking the power of locomotion'"
            ]
          },
          "execution_count": 112,
          "metadata": {},
          "output_type": "execute_result"
        }
      ],
      "source": [
        "wordnet.synset('plant.n.02').definition()"
      ]
    },
    {
      "cell_type": "code",
      "execution_count": null,
      "metadata": {
        "colab": {
          "base_uri": "https://localhost:8080/"
        },
        "id": "09CWWdPWxwef",
        "outputId": "8f27d131-1459-4f86-fa6a-f84866eb7c98"
      },
      "outputs": [
        {
          "data": {
            "text/plain": [
              "0.25"
            ]
          },
          "execution_count": 113,
          "metadata": {},
          "output_type": "execute_result"
        }
      ],
      "source": [
        "tree_syn = wordnet.synset('tree.n.01')\n",
        "tree_syn.path_similarity(wordnet.synset('plant.n.02'))"
      ]
    },
    {
      "cell_type": "code",
      "execution_count": null,
      "metadata": {
        "colab": {
          "base_uri": "https://localhost:8080/",
          "height": 35
        },
        "id": "aq60EJUcyBkE",
        "outputId": "2353aedf-c87d-4781-fa34-73c90bc11e78"
      },
      "outputs": [
        {
          "data": {
            "application/vnd.google.colaboratory.intrinsic+json": {
              "type": "string"
            },
            "text/plain": [
              "'buildings for carrying on industrial labor'"
            ]
          },
          "execution_count": 114,
          "metadata": {},
          "output_type": "execute_result"
        }
      ],
      "source": [
        "wordnet.synset('plant.n.01').definition()"
      ]
    },
    {
      "cell_type": "code",
      "execution_count": null,
      "metadata": {
        "colab": {
          "base_uri": "https://localhost:8080/"
        },
        "id": "7gIw1vBox_tV",
        "outputId": "986f149f-e0eb-4a26-86b4-92970cde5be8"
      },
      "outputs": [
        {
          "data": {
            "text/plain": [
              "0.09090909090909091"
            ]
          },
          "execution_count": 115,
          "metadata": {},
          "output_type": "execute_result"
        }
      ],
      "source": [
        "tree_syn.path_similarity(wordnet.synset('plant.n.01'))"
      ]
    },
    {
      "cell_type": "markdown",
      "metadata": {
        "id": "Hu9ylRxEC23Z"
      },
      "source": [
        "# Lesk for WSD"
      ]
    },
    {
      "cell_type": "markdown",
      "metadata": {
        "id": "XpNeJyEIC8L3"
      },
      "source": [
        "The Lesk algorithm is used in word sense disambiguation (WSD). It associates a sense to a given word based on how related it is to the context (the rest of the words in the text). The algorithm uses the **lesk measure** to measure the relatedness of two words.\n",
        "\n",
        "The Lesk measure is the number of common words in the definitions (glosses) of two words (senses)\n",
        "\n",
        "Simplified Lesk is already implemented in nltk, which compares the target word glosses with the words from the context (not their definitions):"
      ]
    },
    {
      "cell_type": "code",
      "execution_count": 7,
      "metadata": {
        "colab": {
          "base_uri": "https://localhost:8080/"
        },
        "id": "WKA9z7PNFbjs",
        "outputId": "29c242d3-5519-49cb-c62c-43a1bd1fe199"
      },
      "outputs": [
        {
          "name": "stderr",
          "output_type": "stream",
          "text": [
            "[nltk_data] Downloading package punkt_tab to /root/nltk_data...\n",
            "[nltk_data]   Package punkt_tab is already up-to-date!\n"
          ]
        },
        {
          "data": {
            "text/plain": [
              "True"
            ]
          },
          "execution_count": 7,
          "metadata": {},
          "output_type": "execute_result"
        }
      ],
      "source": [
        "import nltk\n",
        "nltk.download('punkt_tab')"
      ]
    },
    {
      "cell_type": "code",
      "execution_count": 9,
      "metadata": {
        "colab": {
          "base_uri": "https://localhost:8080/"
        },
        "id": "tkhz_l6tFmq8",
        "outputId": "be79d5b0-78bd-4929-8186-2a9e2d7bb4c9"
      },
      "outputs": [
        {
          "name": "stdout",
          "output_type": "stream",
          "text": [
            "school.n.06\n",
            "an educational institution's faculty and students\n"
          ]
        }
      ],
      "source": [
        "from nltk.wsd import lesk\n",
        "\n",
        "ambiguous_word = 'school'\n",
        "pos = 'n'\n",
        "sentence_context = nltk.word_tokenize('Students enjoy going to school, studying and reading books')\n",
        "\n",
        "synset = lesk(sentence_context, ambiguous_word, pos)\n",
        "print(synset.name())\n",
        "print(synset.definition())"
      ]
    },
    {
      "cell_type": "code",
      "execution_count": null,
      "metadata": {},
      "outputs": [],
      "source": [
        "import nltk\n",
        "nltk.download('punkt_tab')\n",
        "nltk.download('wordnet')\n",
        "nltk.download('omw-1.4')\n",
        "\n",
        "from nltk.wsd import lesk\n",
        "from nltk.corpus import wordnet as wn\n",
        "from nltk.tokenize import word_tokenize\n"
      ]
    },
    {
      "cell_type": "markdown",
      "metadata": {
        "id": "RgkuwXjF50fr"
      },
      "source": [
        "### Exercises\n",
        "\n",
        "Exercises 1 to 9 are worth 0.1 points each (not doubled). Exercise 10 is worth 0.5 points."
      ]
    },
    {
      "cell_type": "markdown",
      "metadata": {
        "id": "VF7l04WU6Hhf"
      },
      "source": [
        "1. Create a function that receives a word and prints the associated glosses for all the possible senses of that word (you must find all its corresponding synsets and print the gloss for each).\n",
        "\n",
        "2. Create a function that receives two words as parameters. The function will check, using WordNet, if the two words can be synonyms, i.e. there is at least one synset that contains the two words. Print the name and gloss for all such synsets.\n",
        "\n",
        "3. Create a function that receives a synset object and returns a tuple with 2 lists. The first list contains the holonyms (all types of holonyms) and the second one the meronyms (all types).\n",
        "\n",
        "4. Find a word that has either holonyms or meronyms of different types. Print them separately (on categories of holonyms/meronyms) and then all together using the created function (in order to check that it prints them all).\n",
        "\n",
        "5. Create a function that for a given synset, prints the path of hypernyms (going to the next hypernym, and from that hypernym to the next one and so on, until it reaches the root). You can use the function hypernym_paths() of a synset object.\n",
        "\n",
        "6. Create a function that receives two synsets as parameters. We consider d1(k) the length of the path from the first word to the hypernym k (the length of the path is the number of hypernyms it goes through, to reach k) and d2(k) the length of the path from the second word to the hypernym k. The function will return the list of hypernyms having the property that d1(k)+d2(k) is minimum (i.e. lowest common hypernyms).\n",
        "\n",
        "7. Create a function that receives a synset object and a list of synsets (the list must contain at least 5 elements). The function will return a sorted list. The list will be sorted by the similarity between the first synset and the synsets in the list. For example (we consider we take the first synset for each word) we can test for the word cat and the list: animal, tree, house, object, public_school, mouse.\n",
        "\n",
        "8. Create a function that checks if two synsets can be indirect meronyms for the same synset. An indirect meronym is either a part of the given element or a part of a part of the given element (and we can extend this relation as being part of part of part of etc...). This applies to any type of meronym.\n",
        "\n",
        "9. Print the synonyms and antonyms of an adjective (for example, \"beautiful\"). If it's polisemantic, print them for each sense, also printing the gloss for that sense (synset).\n",
        "\n",
        "10. Implement the Lesk algorithm with the help of a function that computes the score for two given glosses. For a given text and a given word, try to find the sense of that word using the Lesk measure. Print the definition for that sense (synset). Compare your result with the Lesk algorithm implemented in nltk."
      ]
    },
    {
      "cell_type": "markdown",
      "metadata": {},
      "source": [
        "# Each cell represents an exercises from above\n"
      ]
    },
    {
      "cell_type": "code",
      "execution_count": null,
      "metadata": {},
      "outputs": [],
      "source": [
        "def get_glosses(word):\n",
        "    synsets = wn.synsets(word)\n",
        "    if not synsets:\n",
        "        print(f\"No synsets found for '{word}'.\")\n",
        "        return\n",
        "\n",
        "    print(f\"Glosses for '{word}':\\n\")\n",
        "    for i, synset in enumerate(synsets, 1):\n",
        "        print(f\"{i}. {synset.name()}: {synset.definition()}\")\n",
        "\n",
        "get_glosses('car')"
      ]
    },
    {
      "cell_type": "code",
      "execution_count": null,
      "metadata": {},
      "outputs": [],
      "source": [
        "def check_syn(word1, word2):\n",
        "    synsets1 = wn.synsets(word1)\n",
        "    common_synsets = []\n",
        "  \n",
        "    for syn1 in synsets1:\n",
        "        for lemma in syn1.lemmas():\n",
        "            if lemma.name() == word2:\n",
        "                common_synsets.append(syn1)\n",
        "                break\n",
        "\n",
        "    if common_synsets:\n",
        "        print(f\"The words '{word1}' and '{word2}' share the following synsets (they may be synonyms):\\n\")\n",
        "        for syn in common_synsets:\n",
        "            print(f\"{syn.name()}: {syn.definition()}\")\n",
        "    else:\n",
        "        print(f\"No shared synsets found for '{word1}' and '{word2}'. They do not appear as synonyms in WordNet.\")\n",
        "\n",
        "check_syn(\"car\", \"automobile\")"
      ]
    },
    {
      "cell_type": "code",
      "execution_count": null,
      "metadata": {},
      "outputs": [],
      "source": [
        "def get_holonyms(synset):\n",
        "    holonyms = ( synset.member_holonyms() +\n",
        "                synset.part_holonyms() +\n",
        "                synset.substance_holonyms()\n",
        "    )\n",
        "    meronyms = (\n",
        "        synset.member_meronyms() +\n",
        "        synset.part_meronyms() +\n",
        "        synset.substance_meronyms()\n",
        "    )\n",
        "\n",
        "    return holonyms, meronyms\n",
        "\n",
        "h, m = get_holonyms(wn.synset('car.n.01'))\n",
        "print(m)"
      ]
    },
    {
      "cell_type": "code",
      "execution_count": null,
      "metadata": {},
      "outputs": [],
      "source": [
        "print(\"All Holonyms:\")\n",
        "for holo in h:\n",
        "    print(f\"- {holo.name()}: {holo.definition()}\")\n",
        "print()\n",
        "print(\"All Meronyms:\")\n",
        "for mero in m:\n",
        "    print(f\"- {mero.name()}: {mero.definition()}\")"
      ]
    },
    {
      "cell_type": "code",
      "execution_count": null,
      "metadata": {},
      "outputs": [],
      "source": [
        "def hyper_path(synset):\n",
        "    paths = synset.hypernym_paths()\n",
        "    \n",
        "    if not paths:\n",
        "        print(f\"No hypernym paths found for {synset.name()}\")\n",
        "        return\n",
        "\n",
        "    print(f\"Hypernym paths for synset '{synset.name()}':\\n\")\n",
        "\n",
        "    for path_idx, path in enumerate(paths, 1):\n",
        "        print(f\"Path {path_idx}:\")\n",
        "        for level, s in enumerate(path):\n",
        "            print(f\"{'  ' * level}-> {s.name()}: {s.definition()}\")\n",
        "        print()\n",
        "\n",
        "hyper_path(wn.synset('car.n.01'))\n"
      ]
    },
    {
      "cell_type": "code",
      "execution_count": null,
      "metadata": {},
      "outputs": [],
      "source": [
        "def min_common_hypernyms(synset1, synset2):\n",
        "    path1 = synset1.hypernym_paths()\n",
        "    path2 = synset2.hypernym_paths()\n",
        "    set_of = set()\n",
        "    for p in path2:\n",
        "        for pp in p:\n",
        "            for path in path1:\n",
        "                for step in path:\n",
        "                    if step == pp and step not in set_of:\n",
        "                        print(step)\n",
        "                        set_of.add(step)\n",
        "\n",
        "\n",
        "min_common_hypernyms(wn.synset('dog.n.01'), wn.synset('domestic_cat.n.01'))"
      ]
    },
    {
      "cell_type": "code",
      "execution_count": null,
      "metadata": {},
      "outputs": [],
      "source": [
        "def similarity(synset, synsets):\n",
        "    similarities = [(syn, synset.wup_similarity(syn)) for syn in synsets]\n",
        "    similarities.sort(key=lambda x: x[1])\n",
        "    return similarities\n",
        "\n",
        "print(similarity(wn.synset('cat.n.01'),[wn.synset('animal.n.01'), wn.synset('tree.n.01'), wn.synset('house.n.01'), wn.synset('object.n.01'), wn.synset('public_school.n.01'), wn.synset('mouse.n.01')]))"
      ]
    },
    {
      "cell_type": "code",
      "execution_count": null,
      "metadata": {},
      "outputs": [],
      "source": [
        "def check_indirect_meronyms(synset1, synset2):\n",
        "    print(synset1.hypernym_paths())\n",
        "    print(synset2.hypernym_paths())\n",
        "    \n",
        "check_indirect_meronyms(wn.synset('wardrobe.n.01'), wn.synset('cupboard.n.01'))"
      ]
    },
    {
      "cell_type": "code",
      "execution_count": null,
      "metadata": {},
      "outputs": [],
      "source": [
        "def gloss_overlap(g1, g2):\n",
        "    words1 = set(word_tokenize(g1.lower()))\n",
        "    words2 = set(word_tokenize(g2.lower()))\n",
        "    counter = 0\n",
        "    for word in words1:\n",
        "        if word in words2:\n",
        "            counter += 1\n",
        "    return counter\n",
        "\n",
        "def custom_lesk(context_sentence, ambiguous_word):\n",
        "    max_overlap = 0\n",
        "    best_sense = None\n",
        "    context = word_tokenize(context_sentence.lower())\n",
        "\n",
        "    for sense in wn.synsets(ambiguous_word):\n",
        "        gloss = sense.definition()\n",
        "        overlap = gloss_overlap(' '.join(context), gloss)\n",
        "        if overlap > max_overlap:\n",
        "            max_overlap = overlap\n",
        "            best_sense = sense\n",
        "\n",
        "    return best_sense\n",
        "\n",
        "sentence = \"Students enjoy going to school, studying and reading books.\"\n",
        "target_word = \"school\"\n",
        "\n",
        "\n",
        "custom_result = custom_lesk(sentence, target_word)\n",
        "print(\"Custom Lesk result:\")\n",
        "print(f\"Sense: {custom_result.name()}\")\n",
        "print(f\"Definition: {custom_result.definition()}\")\n",
        "print()\n",
        "\n",
        "nltk_result = lesk(word_tokenize(sentence), target_word)\n",
        "print(\"NLTK Lesk result:\")\n",
        "print(f\"Sense: {nltk_result.name()}\")\n",
        "print(f\"Definition: {nltk_result.definition()}\")\n"
      ]
    }
  ],
  "metadata": {
    "colab": {
      "provenance": []
    },
    "kernelspec": {
      "display_name": "Python 3",
      "name": "python3"
    },
    "language_info": {
      "name": "python",
      "version": "3.13.5"
    }
  },
  "nbformat": 4,
  "nbformat_minor": 0
}
