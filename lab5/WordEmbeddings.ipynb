{
  "cells": [
    {
      "cell_type": "markdown",
      "metadata": {
        "id": "0DjmHtki7PRK"
      },
      "source": [
        "### Word embeddings"
      ]
    },
    {
      "cell_type": "markdown",
      "metadata": {
        "id": "Rs4G0IAA7PRN"
      },
      "source": [
        "Word2vec is a family of algorithms used to associate vectors to words. There are two techniques (both using neural networks) to create such vectors:\n",
        "- CBOW (Continuous Bag of Words)\n",
        "- Skip-gram"
      ]
    },
    {
      "cell_type": "markdown",
      "metadata": {
        "id": "5e9UrcZ_7PRO"
      },
      "source": [
        "For this lesson we will use the [gensim module](https://radimrehurek.com/gensim/models/word2vec.html#gensim.models.word2vec.Word2Vec). It is recommended to use virtual environments to avoid version conflicts between numpy and gensim."
      ]
    },
    {
      "cell_type": "code",
      "execution_count": null,
      "metadata": {
        "id": "1f_3ppNG7PRO"
      },
      "outputs": [],
      "source": [
        "# Run first in the terminal: python -m venv myenv\n",
        "\n",
        "!pip install gensim\n",
        "!pip install kagglehub"
      ]
    },
    {
      "cell_type": "code",
      "execution_count": null,
      "metadata": {
        "id": "rAZwf_Pv7PRP"
      },
      "outputs": [],
      "source": [
        "\n",
        "import gensim"
      ]
    },
    {
      "cell_type": "markdown",
      "metadata": {
        "id": "2iRcxIG57PRP"
      },
      "source": [
        "We can load a pretrained model (trained with the Google News dataset) in the “word2vec C format” with the following command:\n",
        "\n",
        "**model = gensim.models.KeyedVectors.load_word2vec_format(modelPath, binary=True)**\n",
        "\n",
        "You need to set the modelPath variable to the Google news file. You can download the model from [kaggle](https://www.kaggle.com/datasets/leadbest/googlenewsvectorsnegative300)."
      ]
    },
    {
      "cell_type": "code",
      "execution_count": null,
      "metadata": {
        "id": "jgKKgsCi7PRQ",
        "outputId": "262373f0-015e-407d-e516-780d67caf595"
      },
      "outputs": [
        {
          "name": "stderr",
          "output_type": "stream",
          "text": [
            "c:\\Users\\mihaela.petrevlad\\folder\\myenv\\Lib\\site-packages\\tqdm\\auto.py:21: TqdmWarning: IProgress not found. Please update jupyter and ipywidgets. See https://ipywidgets.readthedocs.io/en/stable/user_install.html\n",
            "  from .autonotebook import tqdm as notebook_tqdm\n"
          ]
        },
        {
          "name": "stdout",
          "output_type": "stream",
          "text": [
            "Path to dataset files: c:\\Users\\mihaela.petrevlad\\folder\\datasets\\leadbest\\googlenewsvectorsnegative300\\versions\\2\n"
          ]
        }
      ],
      "source": [
        "import kagglehub\n",
        "import os\n",
        "\n",
        "# download the dataset to the current working directory\n",
        "os.environ['KAGGLEHUB_CACHE'] = os.getcwd()\n",
        "\n",
        "# Download latest version\n",
        "modelPath = kagglehub.dataset_download(\"leadbest/googlenewsvectorsnegative300\")\n",
        "\n",
        "print(\"Path to dataset files:\", modelPath)"
      ]
    },
    {
      "cell_type": "code",
      "execution_count": null,
      "metadata": {
        "id": "otR7nGHf7PRR"
      },
      "outputs": [],
      "source": [
        "model = gensim.models.KeyedVectors.load_word2vec_format(modelPath, binary=True)"
      ]
    },
    {
      "cell_type": "markdown",
      "metadata": {},
      "source": [
        "If the download takes too long, you can download a smaller pre-trained model that comes with gensim, for example glove-twitter-25:"
      ]
    },
    {
      "cell_type": "code",
      "execution_count": null,
      "metadata": {},
      "outputs": [],
      "source": [
        "model = gensim.downloader.load('glove-twitter-25')"
      ]
    },
    {
      "cell_type": "markdown",
      "metadata": {
        "id": "1DUUYWa47PRR"
      },
      "source": [
        "We can easily find the similarity between two words:"
      ]
    },
    {
      "cell_type": "code",
      "execution_count": null,
      "metadata": {
        "id": "2uG_cGXK7PRR"
      },
      "outputs": [],
      "source": [
        "print(model.similarity(\"cat\",\"dog\"))\n",
        "print(model.similarity(\"cat\",\"car\"))"
      ]
    },
    {
      "cell_type": "markdown",
      "metadata": {},
      "source": [
        "Or the most similar words of a word:"
      ]
    },
    {
      "cell_type": "code",
      "execution_count": null,
      "metadata": {},
      "outputs": [],
      "source": [
        "model.most_similar('cat', topn=3)"
      ]
    },
    {
      "cell_type": "markdown",
      "metadata": {
        "id": "rOoU3kCs7PRS"
      },
      "source": [
        "In order to obtain the vector of a word, you can use the get_vector(word) method:"
      ]
    },
    {
      "cell_type": "code",
      "execution_count": null,
      "metadata": {
        "id": "62ZDI-ry7PRS"
      },
      "outputs": [],
      "source": [
        "model.get_vector(\"cat\")"
      ]
    },
    {
      "cell_type": "markdown",
      "metadata": {
        "id": "mRiHjJDF7PRS"
      },
      "source": [
        "The vocabulary is stored in the vocab model's property. Therefore you can check if a certain word appears in the vocabulary:"
      ]
    },
    {
      "cell_type": "code",
      "execution_count": null,
      "metadata": {
        "id": "WD05RC8g7PRS"
      },
      "outputs": [],
      "source": [
        "\"word\" in model.key_to_index"
      ]
    },
    {
      "cell_type": "markdown",
      "metadata": {
        "id": "5FVrCHuA7PRS"
      },
      "source": [
        "### Exercises (0.1 each)"
      ]
    },
    {
      "cell_type": "markdown",
      "metadata": {
        "id": "jOQa-GvE7PRT"
      },
      "source": [
        "Use a pretrained Word2vec model (Google news). Choose a short English text (about 400-500 words). For example you can take a wikipedia article or book excerpt. The text must also contain proper nouns. Solve the following tasks:\n",
        "\n",
        "1. Print the number of words in the model's vocabulary.\n",
        "2. Print all the words in the text that do not appear in the model's vocabulary.\n",
        "3. Which are the two most distant words in the text, and which are the closest? Print the distance too.\n",
        "4. Print the clusters of words that are the most similar in the text (you can use sklearn's Kmeans) based on their vectors in the model.\n",
        "5. Using NER (Named Entity Recognition) find the named entities in the text. Print the first 5 most similar words to them both in upper and lowercase."
      ]
    },
    {
      "cell_type": "code",
      "execution_count": null,
      "metadata": {},
      "outputs": [],
      "source": [
        "text = \"\"\"\n",
        "  The brain is an organ that serves as the center of the nervous system in all vertebrate and most invertebrate animals. It consists of nervous tissue and is typically located in the head (cephalization), usually near organs for special senses such as vision, hearing, and olfaction. Being the most specialized organ, it is responsible for receiving information from the sensory nervous system, processing those information (thought, cognition, and intelligence) and the coordination of motor control (muscle activity and endocrine system).\n",
        "\n",
        "While invertebrate brains arise from paired segmental ganglia (each of which is only responsible for the respective body segment) of the ventral nerve cord, vertebrate brains develop axially from the midline dorsal nerve cord as a vesicular enlargement at the rostral end of the neural tube, with centralized control over all body segments. All vertebrate brains can be embryonically divided into three parts: the forebrain (prosencephalon, subdivided into telencephalon and diencephalon), midbrain (mesencephalon) and hindbrain (rhombencephalon, subdivided into metencephalon and myelencephalon). The spinal cord, which directly interacts with somatic functions below the head, can be considered a caudal extension of the myelencephalon enclosed inside the vertebral column. Together, the brain and spinal cord constitute the central nervous system in all vertebrates.\n",
        "\n",
        "In humans, the cerebral cortex contains approximately 14-16 billion neurons,[1] and the estimated number of neurons in the cerebellum is 55–70 billion.[2] Each neuron is connected by synapses to several thousand other neurons, typically communicating with one another via cytoplasmic processes known as dendrites and axons. Axons are usually myelinated and carry trains of rapid micro-electric signal pulses called action potentials to target specific recipient cells in other areas of the brain or distant parts of the body. The prefrontal cortex, which controls executive functions, is particularly well developed in humans.\n",
        "\"\"\""
      ]
    },
    {
      "cell_type": "markdown",
      "metadata": {},
      "source": [
        "# The following cells each represents an exercise"
      ]
    },
    {
      "cell_type": "code",
      "execution_count": null,
      "metadata": {},
      "outputs": [],
      "source": [
        "print(len(model.key_to_index))"
      ]
    },
    {
      "cell_type": "code",
      "execution_count": null,
      "metadata": {},
      "outputs": [],
      "source": [
        "from nltk.tokenize import word_tokenize\n",
        "text = word_tokenize(text)\n",
        "words_not_found = set()\n",
        "for word in text:\n",
        "  # print(type(word))\n",
        "  if word not in model.key_to_index and word not in ['.', '(', ')', '\"', \"'\", ',', ']', '[', ':']:\n",
        "    words_not_found.add(word)\n",
        "print(words_not_found)"
      ]
    },
    {
      "cell_type": "code",
      "execution_count": null,
      "metadata": {},
      "outputs": [],
      "source": [
        "import numpy as np\n",
        "import itertools\n",
        "\n",
        "filtered_words = [w for w in text if w in model.key_to_index]\n",
        "if len(filtered_words) < 2:\n",
        "  print(\"Not enough in-vocabulary words to compare.\")\n",
        "\n",
        "# 4. Initialize tracking variables\n",
        "max_distance = -np.inf\n",
        "min_distance = np.inf\n",
        "most_distant_pair = (None, None)\n",
        "closest_pair = (None, None)\n",
        "\n",
        "# 5. Compute pairwise cosine distances on all unique word combinations\n",
        "for w1, w2 in itertools.combinations(filtered_words, 2):\n",
        "  sim = model.similarity(w1, w2)\n",
        "  dist = 1.0 - sim\n",
        "  if dist > max_distance and w1 != w2:\n",
        "    max_distance = dist\n",
        "    most_distant_pair = (w1, w2)\n",
        "  if dist < min_distance and w1 != w2:\n",
        "    min_distance = dist\n",
        "    closest_pair = (w1, w2)\n",
        "\n",
        "# 6. Print results\n",
        "print(f\"Most distant pair: {most_distant_pair} (distance = {max_distance:.4f})\")\n",
        "print(f\"Closest pair: {closest_pair} (distance = {min_distance:.4f})\")"
      ]
    },
    {
      "cell_type": "code",
      "execution_count": null,
      "metadata": {},
      "outputs": [],
      "source": [
        "from sklearn.cluster import KMeans\n",
        "\n",
        "if len(filtered_words) == 0:\n",
        "    print(\"None of the tokens appear in the Word2Vec vocabulary.\")\n",
        "\n",
        "vectors = np.stack([model[w] for w in filtered_words])\n",
        "\n",
        "kmeans = KMeans(n_clusters=3, random_state=13)\n",
        "labels = kmeans.fit_predict(vectors)\n",
        "\n",
        "clusters = {}\n",
        "for word, lbl in zip(filtered_words, labels):\n",
        "    clusters.setdefault(lbl, []).append(word)\n",
        "\n",
        "print(\"\\nClusters (label → words):\")\n",
        "for lbl, word_list in clusters.items():\n",
        "    print(f\"  Cluster {lbl}: {word_list}\")"
      ]
    },
    {
      "cell_type": "code",
      "execution_count": null,
      "metadata": {},
      "outputs": [],
      "source": [
        "#! python -m spacy download en_core_web_sm\n",
        "import spacy\n",
        "nlp = spacy.load(\"en_core_web_sm\")\n",
        "\n",
        "text = \"\"\"\n",
        "  The brain is an organ that serves as the center of the nervous system in all vertebrate and most invertebrate animals. It consists of nervous tissue and is typically located in the head (cephalization), usually near organs for special senses such as vision, hearing, and olfaction. Being the most specialized organ, it is responsible for receiving information from the sensory nervous system, processing those information (thought, cognition, and intelligence) and the coordination of motor control (muscle activity and endocrine system).\n",
        "\n",
        "While invertebrate brains arise from paired segmental ganglia (each of which is only responsible for the respective body segment) of the ventral nerve cord, vertebrate brains develop axially from the midline dorsal nerve cord as a vesicular enlargement at the rostral end of the neural tube, with centralized control over all body segments. All vertebrate brains can be embryonically divided into three parts: the forebrain (prosencephalon, subdivided into telencephalon and diencephalon), midbrain (mesencephalon) and hindbrain (rhombencephalon, subdivided into metencephalon and myelencephalon). The spinal cord, which directly interacts with somatic functions below the head, can be considered a caudal extension of the myelencephalon enclosed inside the vertebral column. Together, the brain and spinal cord constitute the central nervous system in all vertebrates.\n",
        "\n",
        "In humans, the cerebral cortex contains approximately 14-16 billion neurons,[1] and the estimated number of neurons in the cerebellum is 55–70 billion.[2] Each neuron is connected by synapses to several thousand other neurons, typically communicating with one another via cytoplasmic processes known as dendrites and axons. Axons are usually myelinated and carry trains of rapid micro-electric signal pulses called action potentials to target specific recipient cells in other areas of the brain or distant parts of the body. The prefrontal cortex, which controls executive functions, is particularly well developed in humans.\n",
        "\"\"\"\n",
        "doc = nlp(text)\n",
        "entities = {ent.text for ent in doc.ents}\n",
        "if not entities:\n",
        "  print(\"No named entities found in the text.\")\n",
        "\n",
        "for ent_text in entities:\n",
        "  token = ent_text.replace(\" \", \"_\")\n",
        "  print(f\"\\nEntity: '{ent_text}' -> tokenized as '{token}'\")\n",
        "  if token not in model.key_to_index:\n",
        "      print(f\"{token}' not in Word2Vec vocabulary. Skipping.\")\n",
        "      continue\n",
        "  similar = model.most_similar(token, topn=5)\n",
        "  print(f\"  Top 5 most similar words to '{ent_text}':\")\n",
        "  for i, (sim_word, sim_score) in enumerate(similar, start=1):\n",
        "      print(f\"{i}.{sim_word.upper()} / {sim_word.lower()} (score: {sim_score:.2f})\")"
      ]
    }
  ],
  "metadata": {
    "colab": {
      "provenance": []
    },
    "kernelspec": {
      "display_name": "myenv",
      "language": "python",
      "name": "python3"
    },
    "language_info": {
      "codemirror_mode": {
        "name": "ipython",
        "version": 3
      },
      "file_extension": ".py",
      "mimetype": "text/x-python",
      "name": "python",
      "nbconvert_exporter": "python",
      "pygments_lexer": "ipython3",
      "version": "3.13.1"
    }
  },
  "nbformat": 4,
  "nbformat_minor": 0
}
